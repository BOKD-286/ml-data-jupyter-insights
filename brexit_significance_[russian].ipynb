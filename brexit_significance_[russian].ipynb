
{
 "cells": [
  {
   "cell_type": "markdown",
   "metadata": {
    "collapsed": true
   },
   "source": [
    "## <center> Проверка статистической значимости желания британцев покинуть ЕС</center>\n",
    "<img src='img/brexit.jpg' width=60%>"
   ]
  },
  {
   "cell_type": "markdown",
   "metadata": {},
   "source": [
    "**По данным, представленным [BBC](http://www.bbc.com/news/politics/eu_referendum/results), за выход Британии из ЕС проголосовали 17.410.742 чел. (51.9%), против - 16.141.241 (48.1%).**"