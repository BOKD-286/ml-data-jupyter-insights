{
 "cells": [
  {
   "cell_type": "markdown",
   "metadata": {},
   "source": [
    "# Python и красивые ножки - демонстрация тетрадок IPython и библиотек Python\n",
    "#### Автор материала: преподаватель Факультета Компьютерных Наук НИУ ВШЭ Кашницкий Юрий"
   ]
  },
  {
   "cell_type": "markdown",
   "metadata": {},
   "source": [
    "Раньше мы уже <a href=\"https://habrahabr.ru/post/251225/\">искали</a> необычные модели Playboy с помощью библиотеки Python Scikit-learn. \n",
    "Теперь мы продемонстрируем некоторые возможности биб