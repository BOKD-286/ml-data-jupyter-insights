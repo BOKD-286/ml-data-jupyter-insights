{
 "cells": [
  {
   "cell_type": "markdown",
   "metadata": {},
   "source": [
    "# Python и красивые ножки - демонстрация тетрадок IPython и библиотек Python\n",
    "#### Автор материала: преподаватель Факультета Компьютерных Наук НИУ ВШЭ Кашницкий Юрий"
   ]
  },
  {
   "cell_type": "markdown",
   "metadata": {},
   "source": [
    "Раньше мы уже <a href=\"https://habrahabr.ru/post/251225/\">искали</a> необычные модели Playboy с помощью библиотеки Python Scikit-learn. \n",
    "Теперь мы продемонстрируем некоторые возможности библиотек SymPy, SciPy и Matplotlib на живом примере из разряда занимательных школьных задач по математике. "
   ]
  },
  {
   "cell_type": "markdown",
   "metadata": {},
   "source": [
    "<img src=\"img/woman.jpg\">"
   ]
  },
  {
   "cell_type": "markdown",
   "metadata": {},
   "source": [
    "## Задача 1"
   ]
  },
  {
   "cell_type": "markdown",
   "metadata": {},
   "source": [
    "Стоит девушка с изящными, натренированными, а главное, оголенными ножками. Скучает. Перед тем как демонстрировать свой (n+1)-ый уровень владения техникой пикапа, хочется получше рассмотреть ножки девушки - а стоит ли овчинка выделки? Получше рассмотреть - это под наибольшим углом. Можно незаметно подходить к девушке (типа вдаль смотришь), но приседать нельзя - надо же как-то и приличия соблюдать. С какого расстояния ножки видны под наибольшим углом? Допустим, Ваш рост таков, что глаза находятся на высоте $m$ над поверхностью земли. Ноги девушки оголены до высоты $f$."
   ]
  },
  {
   "cell_type": "markdown",
   "metadata": {},
   "source": [
    "<img src='img/legs_scheme.jpg' width=50%>"
   ]
  },
  {
   "cell_type": "markdown",
   "metadata": {},
   "source": [
    "Картинка и перефразированная задача из \"Кристоф Дрессер: Обольстить математикой. Числовые игры на все случаи жизни. Бином. Лаборатория знаний, 2015\""
   ]
  },
  {
   "cell_type": "markdown",
   "metadata": {},
   "source": [
    "## Решение"
   ]
  },
  {
   "cell_type": "markdown",
   "metadata": {},
   "source": [
    "Поясним проблему. Издалека плохо рассматривать ноги - они видны под слишком малым углом. Но и если подойти слишком близко, ноги тоже будут видны под малым углом. Где-то должно быть оптимальное расстояние. "
   ]
  },
  {
   "cell_type": "markdown",
   "metadata": {},
   "source": [
    "Пусть $x$ - расстояние до девушки, $f$ - длина оголенной части ног девушки, $\\alpha$ - угол, под которым ноги видны (надо максимизировать)."
   ]
  },
  {
   "cell_type": "markdown",
   "metadata": {},
   "source": [
    "Угол $\\alpha$ проще всего найти, вычитая из прямого угла углы $\\beta$ и $\\gamma$. Если школьная тригонометрия еще как-то жива в закоулках мозга, легко получим, что"
   ]
  },
  {
   "cell_type": "markdown",
   "metadata": {},
   "source": [
    "<center> $\\alpha$ = $\\frac{\\pi}{2} - arctg(\\frac{x}{m}) - arctg(\\frac{m-f}{x})$ </center> "
   ]
  },
  {
   "cell_type": "markdown",
   "metadata": {},
   "source": [
    "Задача сводится к максимизации $\\alpha$ по переменной $x$.\n",
    "Ну это тоже просто, скажем мы: зануляем производную - и вперед! "
   ]
  },
  {
   "cell_type": "markdown",
   "metadata": {},
   "source": [
    "Для начала построим график функции $\\alpha(x)$. Для определенности возьмем значения переметров $m=1.7\\ м$ и $f=0.7\\ м$ (хотелось бы 1 м, но все же предполагается, что имеется некая юбка.)"
   ]
  },
  {
   "cell_type": "code",
   "execution_count": 1,
   "metadata": {},
   "outputs": [
    {
     "name": "stdout",
     "output_type": "stream",
     "text": [
      "Populating the interactive namespace from numpy and matplotlib\n"
     ]
    }
   ],
   "source": [
    "# отключим лишние предупреждения Anaconda\n",
    "import warnings\n",
    "warnings.filterwarnings('ignore')\n",
    "%pylab inline\n",
    "import numpy as np\n",
    "from math import pi, atan"
   ]
  },
  {
   "cell_type": "code",
   "execution_count": 2,
   "metadata": {},
   "outputs": [
    {
     "data": {
      "text/plain": [
       "[<matplotlib.lines.Line2D at 0x10cd6d150>]"
      ]
     },
     "execution_count": 2,
     "metadata": {},
     "output_type": "execute_result"
    },
    {
     "data": {
      "image/png": "iVBORw0KGgoAAAANSUhEUgAAAXgAAAEACAYAAAC57G0KAAAABHNCSVQICAgIfAhkiAAAAAlwSFlz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