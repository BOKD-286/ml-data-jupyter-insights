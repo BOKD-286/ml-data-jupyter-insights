{
 "cells": [
  {
   "cell_type": "markdown",
   "metadata": {},
   "source": [
    "# Python и красивые ножки - демонстрация тетрадок IPython и библиотек Python\n",
    "#### Автор материала: преподаватель Факультета Компьютерных Наук НИУ ВШЭ Кашницкий Юрий"
   ]
  },
  {
   "cell_type": "markdown",
   "metadata": {},
   "source": [
    "Раньше мы уже <a href=\"https://habrahabr.ru/post/251225/\">искали</a> необычные модели Playboy с помощью библиотеки Python Scikit-learn. \n",
    "Теперь мы продемонстрируем некоторые возможности библиотек SymPy, SciPy и Matplotlib на живом примере из разряда занимательных школьных задач по математике. "
   ]
  },
  {
   "cell_type": "markdown",
   "metadata": {},
   "source": [
    "<img src=\"img/woman.jpg\">"
   ]
  },
  {
   "cell_type": "markdown",
   "metadata": {},
   "source": [
    "## Задача 1"
   ]
  },
  {
   "cell_type": "markdown",
   "metadata": {},
   "source": [
    "Стоит девушка с изящными, натренированными, а главное, оголенными ножками. Скучает. Перед тем как демонстрировать свой (n+1)-ый уровень владения техникой пикапа, хочется получше рассмотреть ножки девушки - а стоит ли овчинка выделки? Получше рассмотреть - это под наибольшим углом. Можно незаметно подходить к девушке (типа вдаль смотришь), но приседать нельзя - надо же как-то и приличия соблюдать. С какого расстояния ножки видны под наибольшим углом? Допустим, Ваш рост таков, что глаза находятся на высоте $m$ над поверхностью земли. Ноги девушки оголены до высоты $f$."
   ]
  },
  {
   "cell_type": "markdown",
   "metadata": {},
   "source": [
    "<img src='img/legs_scheme.jpg' width=50%>"
   ]
  },
  {
   "cell_type": "markdown",
   "metadata": {},
   "source": [
    "Картинка и перефразированная задача из \"Кристоф Дрессер: Обольстить математикой. Числовые игры на все случаи жизни. Бином. Лаборатория знаний, 2015\""
   ]
  },
  {
   "cell_type": "markdown",
   "metadata": {},
   "source": [
    "## Решение"
   ]
  },
  {
   "cell_type": "markdown",
   "metadata": {},
   "source": [
    "Поясним проблему. Издалека плохо рассматривать ноги - они видны под слишком малым углом. Но и если подойти слишком близко, ноги тоже будут видны под малым углом. Где-то должно быть оптимальное расстояние. "
   ]
  },
  {
   "cell_type": "markdown",
   "metadata": {},
   "source": [
    "Пусть $x$ - расстояние до девушки, $f$ - длина оголенной части ног девушки, $\\alpha$ - угол, под которым ноги видны (надо максимизировать)."
   ]
  },
  {
   "cell_type": "markdown",
   "metadata": {},
   "source": [
    "Угол $\\alpha$ проще всего найти, вычитая из прямого угла углы $\\beta$ и $\\gamma$. Если школьная тригонометрия еще как-то жива в закоулках мозга, легко получим, что"
   ]
  },
  {
   "cell_type": "markdown",
   "metadata": {},
   "source": [
    "<center> $\\alpha$ = $\\frac{\\pi}{2} - arctg(\\frac{x}{m}) - arctg(\\frac{m-f}{x})$ </center> "
   ]
  },
  {
   "cell_type": "markdown",
   "metadata": {},
   "source": [
    "Задача сводится к максимизации $\\alpha$ по переменной $x$.\n",
    "Ну это тоже просто, скажем мы: зануляем производную - и вперед! "
   ]
  },
  {
   "cell_type": "markdown",
   "metadata": {},
   "source": [
    "Для начала построим график функции $\\alpha(x)$. Для определенности возьмем значения переметров $m=1.7\\ м$ и $f=0.7\\ м$ (хотелось бы 1 м, но все же предполагается, что имеется некая юбка.)"
   ]
  },
  {
   "cell_type": "code",
   "execution_count": 1,
   "metadata": {},
   "outputs": [
    {
     "name": "stdout",
     "output_type": "stream",
     "text": [
      "Populating the interactive namespace from numpy and matplotlib\n"
     ]
    }
   ],
   "source": [
    "# отключим лишние предупреждения Anaconda\n",
    "import warnings\n",
    "warnings.filterwarnings('ignore')\n",
    "%pylab inline\n",
    "import numpy as np\n",
    "from math import pi, atan"
   ]
  },
  {
   "cell_type": "code",
   "execution_count": 2,
   "metadata": {},
   "outputs": [
    {
     "data": {
      "text/plain": [
       "[<matplotlib.lines.Line2D at 0x10cd6d150>]"
      ]
     },
     "execution_count": 2,
     "metadata": {},
     "output_type": "execute_result"
    },
    {
     "data": {
      "image/png": "iVBORw0KGgoAAAANSUhEUgAAAXgAAAEACAYAAAC57G0KAAAABHNCSVQICAgIfAhkiAAAAAlwSFlz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\nuwJe4qFdu7DMxsKF8OCDMHdu2Nfguu