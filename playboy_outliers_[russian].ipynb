{
 "cells": [
  {
   "cell_type": "markdown",
   "metadata": {},
   "source": [
    "# Необычные модели Playboy, или про обнаружение выбросов в данных c помощью Scikit-learn\n",
    "#### Автор материала: преподаватель Факультета Компьютерных Наук НИУ ВШЭ Кашницкий Юрий"
   ]
  },
  {
   "cell_type": "markdown",
   "metadata": {},
   "source": [
    "## Загрузка и первичный анализ данных"
   ]
  },
  {
   "cell_type": "code",
   "execution_count": 1,
   "metadata": {},
   "outputs": [
    {
     "name": "stdout",
     "output_type": "stream",
     "text": [
      "Populating the interactive namespace from numpy and matplotlib\n"
     ]
    }
   ],
   "source": [
    "from __future__ import division, print_function\n",
    "# отключим всякие предупреждения Anaconda\n",
    "import warnings\n",
    "warnings.filterwarnings('ignore')\n",
    "%pylab inline\n",
    "import seaborn as sns\n",
    "import pandas as pd\n",
    "from sklearn.preprocessing import scale\n",
    "from sklearn import svm\n",
    "from scipy import stats\n",
    "from sklearn.decomposition import PCA"
   ]
  },
  {
   "cell_type": "markdown",
   "metadata": {},
   "source": [
    "**Считываем данные по моделям Playboy.**"
   ]
  },
  {
   "cell_type": "code",
   "execution_count": 2,
   "metadata": {
    "collapsed": true
   },
   "outputs": [],
   "source": [
    "girls = pd.read_csv('data/girls.csv', header=0)"
   ]
  },
  {
   "cell_type": "markdown",
   "metadata": {},
   "source": [
    "**Процент \"выбросов\", задаваемый пользователем. Ищем 1% выбросов в данных, то есть ограничимся 6-7 «странными» девушками. (Переменные в Python, записанные в верхнем регистре, символизируют константы и обычно записываются в начале файла после подключения модулей).**"
   ]
  },
  {
   "cell_type": "code",
   "execution_count": 3,
   "metadata": {
    "collapsed": true
   },
   "outputs": [],
   "source": [
    "OUTLIER_FRACTION = 0.01"
   ]
  },
  {
   "cell_type": "markdown",
   "metadata": {},
   "source": [
    "**Посмотрим общую статистику девушек.**"
   ]
  },
  {
   "cell_type": "code",
   "execution_count": 4,
   "metadata": {},
   "outputs": [
    {
     "name": "stdout",
     "output_type": "stream",
     "text": [
      "<class 'pandas.core.frame.DataFrame'>\n",
      "Int64Index: 604 entries, 0 to 603\n",
      "Data columns (total 7 columns):\n",
      "Month     604 non-null object\n",
      "Year      604 non-null int64\n",
      "Bust      604 non-null int64\n",
      "Waist     604 non-null int64\n",
      "Hips      604 non-null int64\n",
      "Height    604 non-null int64\n",
      "Weight    604 non-null int64\n",
      "dtypes: int64(6), object(1)\n",
      "memory usage: 37.8+ KB\n"
     ]
    }
   ],
   "source": [
    "girls.info()"
   ]
  },
  {
   "cell_type": "markdown",
   "metadata": {},
   "source": [
    "**Дальше узнаем про девушек побольше.**"
   ]
  },
  {
   "cell_type": "code",
   "execution_count": 5,
   "metadata": {},
   "outputs": [
    {
     "data": {
      "text/html": [
       "<div>\n",
       "<table border=\"1\" class=\"dataframe\">\n",
       "  <thead>\n",
       "    <tr style=\"text-align: right;\">\n",
       "      <th></th>\n",
       "      <th>Year</th>\n",
       "      <th>Bust</th>\n",
       "      <th>Waist</th>\n",
       "      <th>Hips</th>\n",
       "      <th>Height</th>\n",
       "      <th>Weight</th>\n",
       "    </tr>\n",
       "  </thead>\n",
       "  <tbody>\n",
       "    <tr>\n",
       "      <th>count</th>\n",
       "      <td>604.000000</td>\n",
       "      <td>604.000000</td>\n",
       "      <td>604.000000</td>\n",
       "      <td>604.000000</td>\n",
       "      <td>604.000000</td>\n",
       "      <td>604.000000</td>\n",
       "    </tr>\n",
       "    <tr>\n",
       "      <th>mean</th>\n",
       "      <td>1983.057947</td>\n",
       "      <td>89.293046</td>\n",
       "      <td>59.529801</td>\n",
       "      <td>87.942053</td>\n",
       "      <td>167.887417</td>\n",
       "      <td>52.168874</td>\n",
       "    </tr>\n",
       "    <tr>\n",
       "      <th>std</th>\n",
       "      <td>14.843740</td>\n",
       "      <td>3.994011</td>\n",
       "      <td>3.616909</td>\n",
       "      <td>3.479142</td>\n",
       "      <td>5.776711</td>\n",
       "      <td>4.040585</td>\n",
       "    </tr>\n",
       "    <tr>\n",
       "      <th>min</th>\n",
       "      <td>1953.000000</td>\n",
       "      <td>81.000000</td>\n",
       "      <td>46.000000</td>\n",
       "      <td>61.000000</td>\n",
       "      <td>150.000000</td>\n",
       "      <td>42.000000</td>\n",
       "    </tr>\n",
       "    <tr>\n",
       "      <th>25%</th>\n",
       "      <td>1970.000000</td>\n",
       "      <td>86.000000</td>\n",
       "      <td>58.000000</td>\n",
       "      <td>86.000000</td>\n",
       "      <td>165.000000</td>\n",
       "      <td>49.000000</td>\n",
       "    </tr>\n",
       "    <tr>\n",
       "      <th>50%</th>\n",
       "      <td>1983.000000</td>\n",
       "      <td>89.000000</td>\n",
       "      <td>61.000000</td>\n",
       "      <td>89.000000</td>\n",
       "      <td>168.000000</td>\n",
       "      <td>52.000000</td>\n",
       "    </tr>\n",
       "    <tr>\n",
       "      <th>75%</th>\n",
       "      <td>1996.000000</td>\n",
       "      <td>91.000000</td>\n",
       "      <td>61.000000</td>\n",
       "      <td>91.000000</td>\n",
       "      <td>173.000000</td>\n",
       "      <td>54.000000</td>\n",
       "    </tr>\n",
       "    <tr>\n",
       "      <th>max</th>\n",
       "      <td>2009.000000</td>\n",
       "      <td>104.000000</td>\n",
       "      <td>89.000000</td>\n",
       "      <td>99.000000</td>\n",
       "      <td>188.000000</td>\n",
       "      <td>68.000000</td>\n",
       "    </tr>\n",
       "  </tbody>\n",
       "</table>\n",
       "</div>"
      ],
      "text/plain": [
       "              Year        Bust       Waist        Hips      Height      Weight\n",
       "count   604.000000  604.000000  604.000000  604.000000  604.000000  604.000000\n",
       "mean   1983.057947   89.293046   59.529801   87.942053  167.887417   52.168874\n",
       "std      14.843740    3.994011    3.616909    3.479142    5.776711    4.040585\n",
       "min    1953.000000   81.000000   46.000000   61.000000  150.000000   42.000000\n",
       "25%    1970.000000   86.000000   58.000000   86.000000  165.000000   49.000000\n",
       "50%    1983.000000   89.000000   61.000000   89.000000  168.000000   52.000000\n",
       "75%    1996.000000   91.000000   61.000000   91.000000  173.000000   54.000000\n",
       "max    2009.000000  104.000000   89.000000   99.000000  188.000000   68.000000"
      ]
     },
     "execution_count": 5,
     "metadata": {},
     "output_type": "execute_result"
    }
   ],
   "source": [
    "girls.describe()"
   ]
  },
  {
   "cell_type": "markdown",
   "metadata": {},
   "source": [
    "**Посмотрим на выбросы, которые бросаются в глаза.**"
   ]
  },
  {
   "cell_type": "code",
   "execution_count": 6,
   "metadata": {},
   "outputs": [
    {
     "data": {
      "text/html": [
       "<div>\n",
       "<table border=\"1\" class=\"dataframe\">\n",
       "  <thead>\n",
       "    <tr style=\"text-align: right;\">\n",
       "      <th></th>\n",
       "      <th>Month</th>\n",
       "      <th>Year</th>\n",
       "      <th>Bust</th>\n",
       "      <th>Waist</th>\n",
       "      <th>Hips</th>\n",
       "      <th>Height</th>\n",
       "      <th>Weight</th>\n",
       "    </tr>\n",
       "  </thead>\n",
       "  <tbody>\n",
       "    <tr>\n",
       "      <th>483</th>\n",
       "      <td>December</td>\n",
       "      <td>1998</td>\n",
       "      <td>86</td>\n",
       "      <td>89</td>\n",
       "      <td>86</td>\n",
       "      <td>173</td>\n",
       "      <td>52</td>\n",
       "    </tr>\n",
       "  </tbody>\n",
       "</table>\n",
       "</div>"
      ],
      "text/plain": [
       "        Month  Year  Bust  Waist  Hips  Height  Weight\n",
       "483  December  1998    86     89    86     173      52"
      ]
     },
     "execution_count": 6,
     "metadata": {},
     "output_type": "execute_result"
    }
   ],
   "source": [
    "girls[girls['Waist'] == 89]"
   ]
  },
  {
   "cell_type": "markdown",
   "metadata": {},
   "source": [
    "**Для красоты можно еще построить и гистограммы распределения параметров девушек.**"
   ]
  },
  {
   "cell_type": "markdown",
   "metadata": {},
   "source": [
    "**Распределение охвата груди.**"
   ]
  },
  {
   "cell_type": "code",
   "execution_count": 7,
   "metadata": {},
   "outputs": [
    {
     "data": {
      "text/plain": [
       "<matplotlib.axes._subplots.AxesSubplot at 0x10e078e90>"
      ]
     },
     "execution_count": 7,
     "metadata": {},
     "output_type": "execute_result"
    },
    {
     "data": {
      "image/png": "iVBORw0KGgoAAAANSUhEUgAAAesAAAFVCAYAAADPM8ekAAAABHNCSVQICAgIfAhkiAAAAAlwSFlz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\n1gAAGEesAQAwjlgDAGAcsQYAwLj/Bwm2HK02nsEdAAAAAElFTkSuQmCC\n",
      "text/plain": [
       "<matplotlib.figure.Figure at 0x10e078bd0>"
      ]
     },
     "metadata": {},
     "output_type": "display_data"
    }
   ],
   "source": [
    "girls['Bust'].hist(bins=40, facecolor='blue', label=\"Bust\")"
   ]
  },
  {
   "cell_type": "markdown",
   "metadata": {},
   "source": [
    "**Распределение охвата талии.**"
   ]
  },
  {
   "cell_type": "code",
   "execution_count": 8,
   "metadata": {},
   "outputs": [
    {
     "data": {
      "text/plain": [
       "<matplotlib.axes._subplots.AxesSubplot at 0x110b4bdd0>"
      ]
     },
     "execution_count": 8,
     "metadata": {},
     "output_type": "execute_result"
    },
    {
     "data": {
      "image/png": "iVBORw0KGgoAAAANSUhEUgAAAegAAAFVCAYAAAAkBHynAAAABHNCSVQICAgIfAhkiAAAAAlwSFlz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\nEWgAAAwi0AAAGPR/GZw6MKUWFzsAAAAASUVORK5CYII=\n",
      "text/plain": [
       "<matplotlib.figure.Figure at 0x10e6efad0>"
      ]
     },
     "metadata": {},
     "output_type": "display_data"
    }
   ],
   "source": [
    "girls['Waist'].hist(bins=40, label=\"Waist\", facecolor='red')"
   ]
  },
  {
   "cell_type": "markdown",
   "metadata": {},
   "source": [
    "**Распределение охвата бедер.**"
   ]
  },
  {
   "cell_type": "code",
   "execution_count": 9,
   "metadata": {},
   "outputs": [
    {
     "data": {
      "text/plain": [
       "<matplotlib.axes._subplots.AxesSubplot at 0x1114c5810>"
      ]
     },
     "execution_count": 9,
     "metadata": {},
     "output_type": "execute_result"
    },
    {
     "data": {
      "image/png": "iVBORw0KGgoAAAANSUhEUgAAAesAAAFVCAYAAADPM8ekAAAABHNCSVQICAgIfAhkiAAAAAlwSFlz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\n",
      "text/plain": [
       "<matplotlib.figure.Figure at 0x1114cf990>"
      ]
     },
     "metadata": {},
     "output_type": "display_data"
    }
   ],
   "source": [
    "girls['Hips'].hist(bins=40, label=\"Hips\", facecolor='green')"
   ]
  },
  {
   "cell_type": "markdown",
   "metadata": {},
   "source": [
    "**Распределение роста.**"
   ]
  },
  {
   "cell_type": "code",
   "execution_count": 10,
   "metadata": {},
   "outputs": [
    {
     "data": {
      "text/plain": [
       "<matplotlib.axes._subplots.AxesSubplot at 0x11169c990>"
      ]
     },
     "execution_count": 10,
     "metadata": {},
     "output_type": "execute_result"
    },
    {
     "data": {
      "image/png": "iVBORw0KGgoAAAANSUhEUgAAAeoAAAFVCAYAAAAg8ayaAAAABHNCSVQICAgIfAhkiAAAAAlwSFlz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\n/wFbRFL/1Vb33AAAAABJRU5ErkJggg==\n",
      "text/plain": [
       "<matplotlib.figure.Figure at 0x111748f90>"
      ]
     },
     "metadata": {},
     "output_type": "display_data"
    }
   ],
   "source": [
    "girls['Height'].hist(bins=40, label=\"Height\", facecolor='cyan')"
   ]
  },
  {
   "cell_type": "markdown",
   "metadata": {},
   "source": [
    "**Распределение веса.**"
   ]
  },
  {
   "cell_type": "code",
   "execution_count": 11,
   "metadata": {},
   "outputs": [
    {
     "data": {
      "text/plain": [
       "<matplotlib.axes._subplots.AxesSubplot at 0x111a8e590>"
      ]
     },
     "execution_count": 11,
     "metadata": {},
     "output_type": "execute_result"
    },
    {
     "data": {
      "image/png": "iVBORw0KGgoAAAANSUhEUgAAAegAAAFVCAYAAAAkBHynAAAABHNCSVQICAgIfAhkiAAAAAlwSFlz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\nBVpAh6YkWVYoAAAAAElFTkSuQmCC\n",
      "text/plain": [
       "<matplotlib.figure.Figure at 0x111a96450>"
      ]
     },
     "metadata": {},
     "output_type": "display_data"
    }
   ],
   "source": [
    "girls['Weight'].hist(bins=40, label=\"Weight\", facecolor='yellow')"
   ]
  },
  {
   "cell_type": "code",
   "execution_count": 12,
   "metadata": {},
   "outputs": [
    {
     "data": {
      "text/plain": [
       "<seaborn.axisgrid.PairGrid at 0x11171a190>"
      ]
     },
     "execution_count": 12,
     "metadata": {},
     "output_type": "execute_result"
    },
    {
     "data": {
      "image/png": "iVBORw0KGgoAAAANSUhEUgAAA38AAAN9CAYAAAAjf8CEAAAABHNCSVQICAgIfAhkiAAAAAlwSFlz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\noukoMROT