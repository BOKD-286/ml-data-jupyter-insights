{
 "cells": [
  {
   "cell_type": "markdown",
   "metadata": {},
   "source": [
    "# Необычные модели Playboy, или про обнаружение выбросов в данных c помощью Scikit-learn\n",
    "#### Автор материала: преподаватель Факультета Компьютерных Наук НИУ ВШЭ Кашницкий Юрий"
   ]
  },
  {
   "cell_type": "markdown",
   "metadata": {},
   "source": [
    "## Загрузка и первичный анализ данных"
   ]
  },
  {
   "cell_type": "code",
   "execution_count": 1,
   "metadata": {},
   "outputs": [
    {
     "name": "stdout",
     "output_type": "stream",
     "text": [
      "Populating the interactive namespace from numpy and matplotlib\n"
     ]
    }
   ],
   "source": [
    "from __future__ import division, print_function\n",
    "# отключим всякие предупреждения Anaconda\n",
    "import warnings\n",
    "warnings.filterwarnings('ignore')\n",
    "%pylab inline\n",
    "import seaborn as sns\n",
    "import pandas as pd\n",
    "from sklearn.preprocessing import scale\n",
    "from sklearn import svm\n",
    "from scipy import stats\n",
    "from sklearn.decomposition import PCA"
   ]
  },
  {
   "cell_type": "markdown",
   "metadata": {},
   "source": [
    "**Считываем данные по моделям Playboy.**"
   ]
  },
  {
   "cell_type": "code",
   "execution_count": 2,
   "metadata": {
    "collapsed": true
   },
   "outputs": [],
   "source": [
    "girls = pd.read_csv('data/girls.csv', header=0)"
   ]
  },
  {
   "cell_type": "markdown",
   "metadata": {},
   "source": [
    "**Процент \"выбросов\", задаваемый пользователем. Ищем 1% выбросов в данных, то есть ограничимся 6-7 «странными» девушками. (Переменные в Python, записанные в верхнем регистре, символизируют константы и обычно записываются в начале файла после подключения модулей).**"
   ]
  },
  {
   "cell_type": "code",
   "execution_count": 3,
   "metadata": {
    "collapsed": true
   },
   "outputs": [],
   "source": [
    "OUTLIER_FRACTION = 0.01"
   ]
  },
  {
   "cell_type": "markdown",
   "metadata": {},
   "source": [
    "**Посмотрим общую статистику девушек.**"
   ]
  },
  {
   "cell_type": "code",
   "execution_count": 4,
   "metadata": {},
   "outputs": [
    {
     "name": "stdout",
     "output_type": "stream",
     "text": [
      "<class 'pandas.core.frame.DataFrame'>\n",
      "Int64Index: 604 entries, 0 to 603\n",
      "Data columns (total 7 columns):\n",
      "Month     604 non-null object\n",
      "Year      604 non-null int64\n",
      "Bust      604 non-null int64\n",
      "Waist     604 non-null int64\n",
      "Hips      604 non-null int64\n",
      "Height    604 non-null int64\n",
      "Weight    604 non-null int64\n",
      "dtypes: int64(6), object(1)\n",
      "memory usage: 37.8+ KB\n"
     ]
    }
   ],
   "source": [
    "girls.info()"
   ]
  },
  {
   "cell_type": "markdown",
   "metadata": {},
   "source": [
    "**Дальше узнаем про девушек побольше.**"
   ]
  },
  {
   "cell_type": "code",
   "execution_count": 5,
   "metadata": {},
   "outputs": [
    {
     "data": {
      "text/html": [
       "<div>\n",
       "<table border=\"1\" class=\"dataframe\">\n",
       "  <thead>\n",
       "    <tr style=\"text-align: right;\">\n",
       "      <th></th>\n",
       "      <th>Year</th>\n",
       "      <th>Bust</th>\n",
       "      <th>Waist</th>\n",
       "      <th>Hips</th>\n",
       "      <th>Height</th>\n",
       "      <th>Weight</th>\n",
       "    </tr>\n",
       "  </thead>\n",
       "  <tbody>\n",
       "    <tr>\n",
       "      <th>count</th>\n",
       "      <td>604.000000</td>\n",
       "      <td>604.000000</td>\n",
       "      <td>604.000000</td>\n",
       "      <td>604.000000</td>\n",
       "      <td>604.000000</td>\n",
       "      <td>604.000000</td>\n",
       "    </tr>\n",
       "    <tr>\n",
       "      <th>mean</th>\n",
       "      <td>1983.057947</td>\n",
       "      <td>89.293046</td>\n",
       "      <td>59.529801</td>\n",
       "      <td>87.942053</td>\n",
       "      <td>167.887417</td>\n",
       "      <td>52.168874</td>\n",
       "    </tr>\n",
       "    <tr>\n",
       "      <th>std</th>\n",
       "      <td>14.843740</td>\n",
       "      <td>3.994011</td>\n",
       "      <td>3.616909</td>\n",
       "      <td>3.479142</td>\n",
       "      <td>5.776711</td>\n",
       "      <td>4.040585</td>\n",
       "    </tr>\n",
       "    <tr>\n",
       "      <th>min</th>\n",
       "      <td>1953.000000</td>\n",
       "      <td>81.000000</td>\n",
       "      <td>46.000000</td>\n",
       "      <td>61.000000</td>\n",
       "      <td>150.000000</td>\n",
       "      <td>42.000000</td>\n",
       "    </tr>\n",
       "    <tr>\n",
       "      <th>25%</th>\n",
       "      <td>1970.000000</td>\n",
       "      <td>86.000000</td>\n",
       "      <td>58.000000</td>\n",
       "      <td>86.000000</td>\n",
       "      <td>165.000000</td>\n",
       "      <td>49.000000</td>\n",
       "    </tr>\n",
       "    <tr>\n",
       "      <th>50%</th>\n",
       "      <td>1983.000000</td>\n",
       "      <td>89.000000</td>\n",
       "      <td>61.000000</td>\n",
       "      <td>89.000000</td>\n",
       "      <td>168.000000</td>\n",
       "      <td>52.000000</td>\n",
       "    </tr>\n",
       "    <tr>\n",
       "      <th>75%</th>\n",
       "      <td>1996.000000</td>\n",
       "      <td>91.000000</td>\n",
       "      <td>61.000000</td>\n",
       "      <td>91.000000</td>\n",
       "      <td>173.000000</td>\n",
       "      <td>54.000000</td>\n",
       "    </tr>\n",
       "    <tr>\n",
       "      <th>max</th>\n",
       "      <td>2009.000000</td>\n",
       "      <td>104.000000</td>\n",
       "      <td>89.000000</td>\n",
       "      <td>99.000000</td>\n",
       "      <td>188.000000</td>\n",
       "      <td>68.000000</td>\n",
       "    </tr>\n",
       "  </tbody>\n",
       "</table>\n",
       "</div>"
      ],
      "text/plain": [
       "              Year        Bust       Waist        Hips      Height      Weight\n",
       "count   604.000000  604.000000  604.000000  604.000000  604.000000  604.000000\n",
       "mean   1983.057947   89.293046   59.529801   87.942053  167.887417   52.168874\n",
       "std      14.843740    3.994011    3.616909    3.479142    5.776711    4.040585\n",
       "min    1953.000000   81.000000   46.000000   61.000000  150.000000   42.000000\n",
       "25%    1970.000000   86.000000   58.000000   86.000000  165.000000   49.000000\n",
       "50%    1983.000000   89.000000   61.000000   89.000000  168.000000   52.000000\n",
       "75%    1996.000000   91.000000   61.000000   91.000000  173.000000   54.000000\n",
       "max    2009.000000  104.000000   89.000000   99.000000  188.000000   68.000000"
      ]
     },
     "execution_count": 5,
     "metadata": {},
     "output_type": "execute_result"
    }
   ],
   "source": [
    "girls.describe()"
   ]
  },
  {
   "cell_type": "markdown",
   "metadata": {},
   "source": [
    "**Посмотрим на выбросы, которые бросаются в глаза.**"
   ]
  },
  {
   "cell_type": "code",
   "execution_count": 6,
   "metadata": {},
   "outputs": [
    {
     "data": {
      "text/html": [
       "<div>\n",
       "<table border=\"1\" class=\"dataframe\">\n",
       "  <thead>\n",
       "    <tr style=\"text-align: right;\">\n",
       "      <th></th>\n",
       "      <th>Month</th>\n",
       "      <th>Year</th>\n",
       "      <th>Bust</th>\n",
       "      <th>Waist</th>\n",
       "      <th>Hips</th>\n",
       "      <th>Height</th>\n",
       "      <th>Weight</th>\n",
       "    </tr>\n",
       "  </thead>\n",
       "  <tbody>\n",
       "    <tr>\n",
       "      <th>483</th>\n",
       "      <td>December</td>\n",
       "      <td>1998</td>\n",
       "      <td>86</td>\n",
       "      <td>89</td>\n",
       "      <td>86</td>\n",
       "      <td>173</td>\n",
       "      <td>52</td>\n",
       "    </tr>\n",
       "  </tbody>\n",
       "</table>\n",
       "</div>"
      ],
      "text/plain": [
       "        Month  Year  Bust  Waist  Hips  Height  Weight\n",
       "483  December  1998    86     89    86     173      52"
      ]
     },
     "execution_count": 6,
     "metadata": {},
     "output_type": "execute_result"
    }
   ],
   "source": [
    "girls[girls['Waist'] == 89]"
   ]
  },
  {
   "cell_type": "markdown",
   "metadata": {},
   "source": [
    "**Для красоты можно еще построить и гистограммы распределения параметров девушек.**"
   ]
  },
  {
   "cell_type": "markdown",
   "metadata": {},
   "source": [
    "**Распределение охвата груди.**"
   ]
  },
  {
   "cell_type": "code",
   "execution_count": 7,
   "metadata": {},
   "outputs": [
    {
     "data": {
      "text/plain": [
       "<matplotlib.axes._subplots.AxesSubplot at 0x10e078e90>"
      ]
     },
     "execution_count": 7,
     "metadata": {},
     "output_type": "execute_result"
    },
    {
     "data": {
      "image/png": "iVBORw0KGgoAAAANSUhEUgAAAesAAAFVCAYAAADPM8ekAAAABHNCSVQICAgIfAhkiAAAAAlwSFlz\nAAALEgAACxIB0t1+/AAAFrtJREFUeJzt3X9MVff9x/HXhXtZ6r3cGhfckm/plfClC1QxIbKULjL/\nqEo383WdowYsdMoSZevixrKIPxCjM7q0jVmCjVm3ZQldpySabPtjWVozR1JISNdUrVi6UEepbZQG\n0t1zu3Gvvef7R1vmD8o94L2XN/B8/FXhcPjwvqc8772ce67PdV1XAADArJzZXgAAAJgasQYAwDhi\nDQCAccQaAADjiDUAAMYRawAAjPNP9clEIqE9e/bovffeUzweV3Nzs7785S9r+/btWrZsmSSpvr5e\njz76qLq6unTq1Cn5/X41NzdrzZo1WVg+AADzn2+q11mfOXNGAwMD2r17tz788ENt3LhRP/jBD+Q4\njrZu3Tqx3cjIiLZt26YzZ85ofHxcdXV1On36tPLy8rLyQwAAMJ9N+ci6pqZG69evlyQlk0n5/X5d\nunRJV65c0dmzZxWJRLRnzx5duHBBFRUVCgQCCgQCikQiGhgY0IoVK7LyQwAAMJ9NGetFixZJkhzH\n0c6dO/XjH/9Y4+Pjevzxx1VWVqYTJ06oo6NDpaWlys/Pn/i6YDAox3Eyu3IAABaIlCeYvf/++3ry\nySf1rW99S9/85je1du1alZWVSZLWrl2ry5cvKxQKKRaLTXxNLBZTOByecr9c5RQAAG+mfGT9wQcf\naNu2bWpvb9dDDz0kSWpqatK+fftUXl6unp4eLV++XO