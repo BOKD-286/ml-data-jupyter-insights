{
 "cells": [
  {
   "cell_type": "markdown",
   "metadata": {},
   "source": [
    "# Необычные модели Playboy, или про обнаружение выбросов в данных c помощью Scikit-learn\n",
    "#### Автор материала: преподаватель Факультета Компьютерных Наук НИУ ВШЭ Кашницкий Юрий"
   ]
  },
  {
   "cell_type": "markdown",
   "metadata": {},
   "source": [
    "## Загрузка и первичный анализ данных"
   ]
  },
  {
   "cell_type": "code",
   "execution_count": 1,
   "metadata": {},
   "outputs": [
    {
     "name": "stdout",
     "output_type": "stream",
     "text": [
      "Populating the interactive namespace from numpy and matplotlib\n"
     ]
    }
   ],
   "source": [
    "from __future__ import division, print_function\n",
    "# отключим всякие предупреждения Anaconda\n",
    "import warnings\n",
    "warnings.filterwarnings('ignore')\n",
    "%pylab inline\n",
    "import seaborn as sns\n",
    "import pandas as pd\n",
    "from sklearn.preprocessing import scale\n",
    "from sklearn import svm\n",
    "from scipy import stats\n",
    "from sklearn.decomposition import PCA"
   ]
  },
  {
   "cell_type": "markdown",
   "metadata": {},
   "source": [
    "**Считываем данные по моделям Playboy.**"
   ]
  },
  {
   "cell_type": "code",
   "execution_count": 2,
   "metadata": {
    "collapsed": true
   },
   "outputs": [],
   "source": [
    "girls = pd.read_csv('data/girls.csv', header=0)"
   ]
  },
  {
   "cell_type": "markdown",
   "metadata": {},
   "source": [
    "**Процент \"выбросов\", задаваемый пользователем. Ищем 1% выбросов в данных, то есть ограничимся 6-7 «странными» девушками. (Переменные в Python, записанные в верхнем регистре, символизируют константы и обычно записываются в начале файла после подключения модулей).**"
   ]
  },
  {
   "cell_type": "code",
   "execution_count": 3,
   "metadata": {
    "collapsed": true
   },
   "outputs": [],
   "source": [
    "OUTLIER_FRACTION = 0.01"
   ]
  },
  {
   "cell_type": "markdown",
   "metadata": {},
   "source": [
    "**Посмотрим общую статистику девушек.**"
   ]
  },
  {
   "cell_type": "code",
   "execution_count": 4,
   "metadata": {},
   "outputs": [
    {
     "name": "stdout",
     "output_type": "stream",
     "text": [
      "<class 'pandas.core.frame.DataFrame'>\n",
      "Int64Index: 604 entries, 0 to 603\n",
      "Data columns (total 7 columns):\n",
      "Month     604 non-null object\n",
      "Year      604 non-null int64\n",
      "Bust      604 non-null int64\n",
      "Waist     604 non-null int64\n",
      "Hips      604 non-null int64\n",
      "Height    604 non-null int64\n",
      "Weight    604 non-null int64\n",
      "dtypes: int64(6), object(1)\n",
      "memory usage: 37.8+ KB\n"
     ]
    }
   ],
   "source": [
    "girls.info()"
   ]
  },
  {
   "cell_type": "markdown",
   "metadata": {},
   "source": [
    "**Дальше узнаем про девушек побольше.**"
   ]
  },
  {
   "cell_type": "code",
   "execution_count": 5,
   "metadata": {},
   "outputs": [
    {
     "data": {
      "text/html": [
       "<div>\n",
       "<table border=\"1\" class=\"dataframe\">\n",
       "  <thead>\n",
       "    <tr style=\"text-align: right;\">\n",
       "      <th></th>\n",
       "      <th>Year</th>\n",
       "      <th>Bust</th>\n",
       "      <th>Waist</th>\n",
       "      <th>Hips</th>\n",
       "      <th>Height</th>\n",
       "      <th>Weight</th>\n",
       "    </tr>\n",
       "  </thead>\n",
       "  <tbody>\n",
       "    <tr>\n",
       "      <th>count</th>\n",
       "      <td>604.000000</td>\n",
       "      <td>604.000000</td>\n",
       "      <td>604.000000</td>\n",
       "      <td>604.000000</td>\n",
       "      <td>604.000000</td>\n",
       "      <td>604.000000</td>\n",
       "    </tr>\n",
       "    <tr>\n",
       "      <th>mean</th>\n",
       "      <td>1983.057947</td>\n",
       "      <td>89.293046</td>\n",
       "      <td>59.529801</td>\n",
       "      <td>87.942053</td>\n",
       "      <td>167.887417</td>\n",
       "      <td>52.168874</td>\n",
       "    </tr>\n",
       "    <tr>\n",
       "      <th>std</th>\n",
       "      <td>14.843740</td>\n",
       "      <td>3.994011</td>\n",
       "      <td>3.616909</td>\n",
       "      <td>3.479142</td>\n",
       "      <td>5.776711</td>\n",
       "      <td>4.040585</td>\n",
       "    </tr>\n",
       "    <tr>\n",
       "      <th>min</th>\n",
       "      <td>1953.000000</td>\n",
       "      <td>81.000000</td>\n",
       "      <td>46.000000</td>\n",
       "      <td>61.000000</td>\n",
       "      <td>150.000000</td>\n",
       "      <td>42.000000</td>\n",
       "    </tr>\n",
       "    <tr>\n",
       "      <th>25%</th>\n",
       "      <td>1970.000000</td>\n",
       "      <td>86.000000</td>\n",
       "      <td>58.000000</td>\n",
       "      <td>86.000000</td>\n",
       "      <td>165.000000</td>\n",
       "      <td>49.000000</td>\n",
       "    </tr>\n",
       "    <tr>\n",
       "      <th>50%</th>\n",
       "      <td>1983.000000</td>\n",
       "      <td>89.000000</td>\n",
       "      <td>61.000000</td>\n",
       "      <td>89.000000</td>\n",
       "      <td>168.000000</td>\n",
       "      <td>52.000000</td>\n",
       "    </tr>\n",
       "    <tr>\n",
       "      <th>75%</th>\n",
       "      <td>1996.000000</td>\n",
       "      <td>91.000000</td>\n",
       "      <td>61.000000</td>\n",
       "      <td>91.000000</td>\n",
       "      <td>173.000000</td>\n",
       "      <td>54.000000</td>\n",
       "    </tr>\n",
       "    <tr>\n",
       "      <th>max</th>\n",
       "      <td>2009.000000</td>\n",
       "      <td>104.000000</td>\n",
       "      <td>89.000000</td>\n",
       "      <td>99.000000</td>\n",
       "      <td>188.000000</td>\n",
       "      <td>68.000000</td>\n",
       "    </tr>\n",
       "  </tbody>\n",
       "</table>\n",
       "</div>"
      ],
      "text/plain": [
       "              Year        Bust       Waist        Hips      Height      Weight\n",
       "count   604.000000  604.000000  604.000000  604.000000  604.000000  604.000000\n",
       "mean   1983.057947   89.293046   59.529801   87.942053  167.887417   52.168874\n",
       "std      14.843740    3.994011    3.616909    3.479142    5.776711    4.040585\n",
       "min    1953.000000   81.000000   46.000000   61.000000  150.000000   42.000000\n",
       "25%    1970.000000   86.000000   58.000000   86.000000  165.000000   49.000000\n",
       "50%    1983.000000   89.000000   61.000000   89.000000  168.000000   52.000000\n",
       "75%    1996.000000   91.000000   61.000000   91.000000  173.000000   54.000000\n",
       "max    2009.000000  104.000000   89.000000   99.000000  188.000000   68.000000"
      ]
     },
     "execution_count": 5,
     "metadata": {},
     "output_type": "execute_result"
    }
   ],
   "source": [
    "girls.describe()"
   ]
  },
  {
   "cell_type": "markdown",
   "metadata": {},
   "source": [
    "**Посмотрим на выбросы, которые бросаются в глаза.**"
   ]
  },
  {
   "cell_type": "code",
   "execution_count": 6,
   "metadata": {},
   "outputs": [
    {
     "data": {
      "text/html": [
       "<div>\n",
       "<table border=\"1\" class=\"dataframe\">\n",
       "  <thead>\n",
       "    <tr style=\"text-align: right;\">\n",
       "      <th></th>\n",
       "      <th>Month</th>\n",
       "      <th>Year</th>\n",
       "      <th>Bust</th>\n",
       "      <th>Waist</th>\n",
       "      <th>Hips</th>\n",
       "      <th>Height</th>\n",
       "      <th>Weight</th>\n",
       "    </tr>\n",
       "  </thead>\n",
       "  <tbody>\n",
       "    <tr>\n",
       "      <th>483</th>\n",
       "      <td>December</td>\n",
       "      <td>1998</td>\n",
       "      <td>86</td>\n",
       "      <td>89</td>\n",
       "      <td>86</td>\n",
       "      <td>173</td>\n",
       "      <td>52</td>\n",
       "    </tr>\n",
       "  </tbody>\n",
       "</table>\n",
       "</div>"
      ],
      "text/plain": [
       "        Month  Year  Bust  Waist  Hips  Height  Weight\n",
       "483  December  1998    86     89    86     173      52"
      ]
     },
     "execution_count": 6,
     "metadata": {},
     "output_type": "execute_result"
    }
   ],
   "source": [
    "girls[girls['Waist'] == 89]"
   ]
  },
  {
   "cell_type": "markdown",
   "metadata": {},
   "source": [
    "**Для красоты можно еще построить и гистограммы распределения параметров девушек.**"
   ]
  },
  {
   "cell_type": "markdown",
   "metadata": {},
   "source": [
    "**Распределение охвата груди.**"
   ]
  },
  {
   "cell_type": "code",
   "execution_count": 7,
   "metadata": {},
   "outputs": [
    {
     "data": {
      "text/plain": [
       "<matplotlib.axes._subplots.AxesSubplot at 0x10e078e90>"
      ]
     },
     "execution_count": 7,
     "metadata": {},
     "output_type": "execute_result"
    },
    {
     "data": {
      "image/png": "iVBORw0KGgoAAAANSUhEUgAAAesAAAFVCAYAAADPM8ekAAAABHNCSVQICAgIfAhkiAAAAAlwSFlz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\n1gAAGEesAQAwjlgDAGAcsQYAwLj/Bwm2HK02nsEdAAAAAElFTkSuQmCC\n",
      "text/plain": [
       "<matplotlib.figure.Figure at 0x10e078bd0>"
      ]
     },
     "metadata": {},
     "output_type": "display_data"
    }
   ],
   "source": [
    "girls['Bust'].hist(bins=40, facecolor='blue', label=\"Bust\")"
   ]
  },
  {
   "cell_type": "markdown",
   "metadata": {},
   "source": [
    "**Распределение охвата талии.**"
   ]
  },
  {
   "cell_type": "code",
   "execution_count": 8,
   "metadata": {},
   "outputs": [
    {
     "data": {
      "text/plain": [
       "<matplotlib.axes._subplots.AxesSubplot at 0x110b4bdd0>"
      ]
     },
     "execution_count": 8,
     "metadata": {},
     "output_type": "execute_result"
    },
    {
     "data": {
      "image/png": "iVBORw0KGgoAAAANSUhEUgAAAegAAAFVCAYAAAAkBHynAAAABHNCSVQICAgIfAhkiAAAAAlwSFlz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\nEWgAAAwi0AAAGPR/GZw6MKUWFzsAAAAASUVORK5CYII=\n",
      "text/plain": [
       "<matplotlib.figure.Figure at 0x10e6efad0>"
      ]
     },
     "metadata": {},
     "output_type": "display_data"
    }
   ],
   "source": [
    "girls['Waist'].hist(bins=40, label=\"Waist\", facecolor='red')"
   ]
  },
  {
   "cell_type": "markdown",
   "metadata": {},
   "source": [
    "**Распределение охвата бедер.**"
   ]
  },
  {
   "cell_type": "code",
   "execution_count": 9,
   "metadata": {},
   "outputs": [
    {
     "data": {
      "text/plain": [
       "<matplotlib.axes._subplots.AxesSubplot at 0x1114c5810>"
      ]
     },
     "execution_count": 9,
     "metadata": {},
     "output_type": "execute_result"
    },
    {
     "data": {
      "image/png": "iVBORw0KGgoAAAANSUhEUgAAAesAAAFVCAYAAADPM8ekAAAABHNCSVQICAgIfAhkiAAAAAlwSFlz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\nAaBwYg0AhRNrACicWANA