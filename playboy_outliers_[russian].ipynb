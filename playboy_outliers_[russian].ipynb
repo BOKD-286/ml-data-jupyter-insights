{
 "cells": [
  {
   "cell_type": "markdown",
   "metadata": {},
   "source": [
    "# Необычные модели Playboy, или про обнаружение выбросов в данных c помощью Scikit-learn\n",
    "#### Автор материала: преподаватель Факультета Компьютерных Наук НИУ ВШЭ Кашницкий Юрий"
   ]
  },
  {
   "cell_type": "markdown",
   "metadata": {},
   "source": [
    "## Загрузка и первичный анализ данных"
   ]
  },
  {
   "cell_type": "code",
   "execution_count": 1,
   "metadata": {},
   "outputs": [
    {
     "name": "stdout",
     "output_type": "stream",
     "text": [
      "Populating the interactive namespace from numpy and matplotlib\n"
     ]
    }
   ],
   "source": [
    "from __future__ import division, print_function\n",
    "# отключим всякие предупреждения Anaconda\n",
    "import warnings\n",
    "warnings.filterwarnings('ignore')\n",
    "%pylab inline\n",
    "import seaborn as sns\n",
    "import pandas as pd\n",
    "from sklearn.preprocessing import scale\n",
    "from sklearn import svm\n",
    "from scipy import stats\n",
    "from sklearn.decomposition import PCA"
   ]
  },
  {
   "cell_type": "markdown",
   "metadata": {},
   "source": [
    "**Считываем данные по моделям Playboy.**"
   ]
  },
  {
   "cell_type": "code",
   "execution_count": 2,
   "metadata": {
    "collapsed": true
   },
   "outputs": [],
   "source": [
    "girls = pd.read_csv('data/girls.csv', header=0)"
   ]
  },
  {
   "cell_type": "markdown",
   "metadata": {},
   "source": [
    "**Процент \"выбросов\", задаваемый пользователем. Ищем 1% выбросов в данных, то есть ограничимся 6-7 «странными» девушками. (Переменные в Python, записанные в верхнем регистре, символизируют константы и обычно записываются в начале файла после подключения модулей).**"
   ]
  },
  {
   "cell_type": "code",
   "execution_count": 3,
   "metadata": {
    "collapsed": true
   },
   "outputs": [],
   "source": [
    "OUTLIER_FRACTION = 0.01"
   ]
  },
  {
   "cell_type": "markdown",
   "metadata": {},
   "source": [
    "**Посмотрим общую статистику девушек.**"
   ]
  },
  {
   "cell_type": "code",
   "execution_count": 4,
   "metadata": {},
   "outputs": [
    {
     "name": "stdout",
     "output_type": "stream",
     "text": [
      "<class 'pandas.core.frame.DataFrame'>\n",
      "Int64Index: 604 entries, 0 to 603\n",
      "Data columns (total 7 columns):\n",
      "Month     604 non-null object\n",
      "Year      604 non-null int64\n",
      "Bust      604 non-null int64\n",
      "Waist     604 non-null int64\n",
      "Hips      604 non-null int64\n",
      "Height    604 non-null int64\n",
      "Weight    604 non-null int64\n",
      "dtypes: int64(6), object(1)\n",
      "memory usage: 37.8+ KB\n"
     ]
    }
   ],
   "source": [
    "girls.info()"
   ]
  },
  {
   "cell_type": "markdown",
   "metadata": {},
   "source": [
    "**Дальше узнаем про девушек побольше.**"
   ]
  },
  {
   "cell_type": "code",
   "execution_count": 5,
   "metadata": {},
   "outputs": [
    {
     "data": {
      "text/html": [
       "<div>\n",
       "<table border=\"1\" class=\"dataframe\">\n",
       "  <thead>\n",
       "    <tr style=\"text-align: right;\">\n",
       "      <th></th>\n",
       "      <th>Year</th>\n",
       "      <th>Bust</th>\n",
       "      <th>Waist</th>\n",
       "      <th>Hips</th>\n",
       "      <th>Height</th>\n",
       "      <th>Weight</th>\n",
       "    </tr>\n",
       "  </thead>\n",
       "  <tbody>\n",
       "    <tr>\n",
       "      <th>count</th>\n",
       "      <td>604.000000</td>\n",
       "      <td>604.000000</td>\n",
       "      <td>604.000000</td>\n",
       "      <td>604.000000</td>\n",
       "      <td>604.000000</td>\n",
       "      <td>604.000000</td>\n",
       "    </tr>\n",
       "    <tr>\n",
       "      <th>mean</th>\n",
       "      <td>1983.057947</td>\n",
       "      <td>89.293046</td>\n",
       "      <td>59.529801</td>\n",
       "      <td>87.942053</td>\n",
       "      <td>167.887417</td>\n",
       "      <td>52.168874</td>\n",
       "    </tr>\n",
       "    <tr>\n",
       "      <th>std</th>\n",
       "      <td>14.843740</td>\n",
       "      <td>3.994011</td>\n",
       "      <td>3.616909</td>\n",
       "      <td>3.479142</td>\n",
       "      <td>5.776711</td>\n",
       "      <td>4.040585</td>\n",
       "    </tr>\n",
       "    <tr>\n",
       "      <th>min</th>\n",
       "      <td>1953.000000</td>\n",
       "      <td>81.000000</td>\n",
       "      <td>46.000000</td>\n",
       "      <td>61.000000</td>\n",
       "      <td>150.000000</td>\n",
       "      <td>42.000000</td>\n",
       "    </tr>\n",
       "    <tr>\n",
       "      <th>25%</th>\n",
       "      <td>1970.000000</td>\n",
       "      <td>86.000000</td>\n",
       "      <td>58.000000</td>\n",
       "      <td>86.000000</td>\n",
       "      <td>165.000000</td>\n",
       "      <td>49.000000</td>\n",
       "    </tr>\n",
       "    <tr>\n",
       "      <th>50%</th>\n",
       "      <td>1983.000000</td>\n",
       "      <td>89.000000</td>\n",
       "      <td>61.000000</td>\n",
       "      <td>89.000000</td>\n",
       "      <td>168.000000</td>\n",
       "      <td>52.000000</td>\n",
       "    </tr>\n",
       "    <tr>\n",
       "      <th>75%</th>\n",
       "      <td>1996.000000</td>\n",
       "      <td>91.000000</td>\n",
       "      <td>61.000000</td>\n",
       "      <td>91.000000</td>\n",
       "      <td>173.000000</td>\n",
       "      <td>54.000000</td>\n",
       "    </tr>\n",
       "    <tr>\n",
       "      <th>max</th>\n",
       "      <td>2009.000000</td>\n",
       "      <td>104.000000</td>\n",
       "      <td>89.000000</td>\n",
       "      <td>99.000000</td>\n",
       "      <td>188.000000</td>\n",
       "      <td>68.000000</td>\n",
       "    </tr>\n",
       "  </tbody>\n",
       "</table>\n",
       "</div>"
      ],
      "text/plain": [
       "              Year        Bust       Waist        Hips      Height      Weight\n",
       "count   604.000000  604.000000  604.000000  604.000000  604.000000  604.000000\n",
       "mean   1983.057947   89.293046   59.529801   87.942053  167.887417   52.168874\n",
       "std      14.843740    3.994011    3.616909    3.479142    5.776711    4.040585\n",
       "min    1953.000000   81.000000   46.000000   61.000000  150.000000   42.000000\n",
       "25%    1970.000000   86.000000   58.000000   86.000000  165.000000   49.000000\n",
       "50%    1983.000000   89.000000   61.000000   89.000000  168.000000   52.000000\n",
       "75%    1996.000000   91.000000   61.000000   91.000000  173.000000   54.000000\n",
       "max    2009.000000  104.000000   89.000000   99.000000  188.000000   68.000000"
      ]
     },
     "execution_count": 5,
     "metadata": {},
     "output_type": "execute_result"
    }
   ],
   "source": [
    "girls.describe()"
   ]
  },
  {
   "cell_type": "markdown",
   "metadata": {},
   "source": [
    "**Посмотрим на выбросы, которые бросаются в глаза.**"
   ]
  },
  {
   "cell_type": "code",
   "execution_count": 6,
   "metadata": {},
   "outputs": [
    {
     "data": {
      "text/html": [
       "<div>\n",
       "<table border=\"1\" class=\"dataframe\">\n",
       "  <thead>\n",
       "    <tr style=\"text-align: right;\">\n",
       "      <th></th>\n",
       "      <th>Month</th>\n",
       "      <th>Year</th>\n",
       "      <th>Bust</th>\n",
       "      <th>Waist</th>\n",
       "      <th>Hips</th>\n",
       "      <th>Height</th>\n",
       "      <th>Weight</th>\n",
       "    </tr>\n",
       "  </thead>\n",
       "  <tbody>\n",
       "    <tr>\n",
       "      <th>483</th>\n",
       "      <td>December</td>\n",
       "      <td>1998</td>\n",
       "      <td>86</td>\n",
       "      <td>89</td>\n",
       "      <td>86</td>\n",
       "      <td>173</td>\n",
       "      <td>52</td>\n",
       "    </tr>\n",
       "  </tbody>\n",
       "</table>\n",
       "</div>"
      ],
      "text/plain": [
       "        Month  Year  Bust  Waist  Hips  Height  Weight\n",
       "483  December  1998    86     89    86     173      52"
      ]
     },
     "execution_count": 6,
     "metadata": {},
     "output_type": "execute_result"
    }
   ],
   "source": [
    "girls[girls['Waist'] == 89]"
   ]
  },
  {
   "cell_type": "markdown",
   "metadata": {},
   "source": [
    "**Для красоты можно еще построить и гистограммы распределения параметров девушек.**"
   ]
  },
  {
   "cell_type": "markdown",
   "metadata": {},
   "source": [
    "**Распределение охвата груди.**"
   ]
  },
  {
   "cell_type": "code",
   "execution_count": 7,
   "metadata": {},
   "outputs": [
    {
     "data": {
      "text/plain": [
       "<matplotlib.axes._subplots.AxesSubplot at 0x10e078e90>"
      ]
     },
     "execution_count": 7,
     "metadata": {},
     "output_type": "execute_result"
    },
    {
     "data": {
      "image/png": "iVBORw0KGgoAAAANSUhEUgAAAesAAAFVCAYAAADPM8ekAAAABHNCSVQICAgIfAhkiAAAAAlwSFlz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\nX7E72bF78eJFVVRUKBAIKBQKKRKJTFw7A6l5mbHruhoaGlJbW5